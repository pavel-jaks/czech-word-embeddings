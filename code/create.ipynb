{
 "cells": [
  {
   "cell_type": "code",
   "execution_count": null,
   "metadata": {},
   "outputs": [],
   "source": [
    "from os import path\n",
    "from typing import Union"
   ]
  },
  {
   "cell_type": "code",
   "execution_count": null,
   "metadata": {},
   "outputs": [],
   "source": [
    "from bs4 import BeautifulSoup"
   ]
  },
  {
   "cell_type": "code",
   "execution_count": 117,
   "metadata": {},
   "outputs": [],
   "source": [
    "class BibleReader:\n",
    "    def __init__(self, file_name:Union[str, None]=None):\n",
    "        if file_name is None:\n",
    "            file_name = path.join('data', 'bible-csp.xml')\n",
    "        data = None\n",
    "        with open(file_name, encoding='utf-8') as file:\n",
    "            data = file.read()\n",
    "        bs_data = BeautifulSoup(data, 'xml')\n",
    "        self.sentences = []\n",
    "        buffer = ''\n",
    "        for verse in bs_data.find_all('v'):\n",
    "            verse = verse.find_all(text=True, recursive=False)\n",
    "            verse = str(verse)[2:-2]\n",
    "            if '.' not in verse:\n",
    "                buffer += verse\n",
    "            else:\n",
    "                sentences = (buffer + ' ' + verse).split('.')\n",
    "                buffer = ''\n",
    "                sentence_number = len(sentences)\n",
    "                added_sentences_count = 0\n",
    "                for i in (range(sentence_number) if '.' in sentences[sentence_number - 1] else range(sentence_number - 1)):\n",
    "                    sentence = sentences[i].lower()\n",
    "                    words = [''.join([character for character in word if character.isalpha()]) for word in sentence.split(' ') if word != '']\n",
    "                    words = [word for word in words if word != '']\n",
    "                    self.sentences.append(words)\n",
    "                    added_sentences_count += 1\n",
    "                if added_sentences_count != sentence_number:\n",
    "                    buffer += sentences[sentence_number - 1]\n",
    "            "
   ]
  },
  {
   "cell_type": "code",
   "execution_count": 118,
   "metadata": {},
   "outputs": [],
   "source": [
    "br = BibleReader()"
   ]
  },
  {
   "cell_type": "code",
   "execution_count": 139,
   "metadata": {},
   "outputs": [],
   "source": [
    "class BibleBidirectorialDictionary:\n",
    "    def __init__(self, data: BibleReader):\n",
    "        self.ordered = []\n",
    "        for sentence in data.sentences:\n",
    "            for word in sentence:\n",
    "                i = -1\n",
    "                found = False\n",
    "                beginning, end = 0, len(self.ordered) - 1\n",
    "                while end - beginning >= 0:\n",
    "                    if (end - beginning) % 2 == 0:\n",
    "                        current_visited_index = beginning + (end - beginning) // 2\n",
    "                    else:\n",
    "                        current_visited_index = beginning + (end - beginning) // 2 + 1\n",
    "                    current_visited = self.ordered[current_visited_index]\n",
    "                    if word == current_visited:\n",
    "                        i = current_visited_index\n",
    "                        found = True\n",
    "                        break\n",
    "                    elif word < current_visited:\n",
    "                        end -= (end - current_visited_index) + 1\n",
    "                        i = current_visited_index\n",
    "                    else:\n",
    "                        beginning += (current_visited_index - beginning) + 1\n",
    "                        i = current_visited_index + 1\n",
    "                else:\n",
    "                    if len(self.ordered) == 0:\n",
    "                        i = 0\n",
    "                    elif len(self.ordered) == 1 or beginning == 0:\n",
    "                        i = 0 if word < self.ordered[0] else 1\n",
    "                    found = False\n",
    "                if not found:\n",
    "                    self.ordered.insert(i, word)\n",
    "\n",
    "    def index_of_word(self, word:str) -> int:\n",
    "        beginning, end = 0, len(self.ordered) - 1\n",
    "        while end - beginning >= 0:\n",
    "            if (end - beginning) % 2 == 0:\n",
    "                current_visited_index = beginning + (end - beginning) // 2\n",
    "            else:\n",
    "                current_visited_index = beginning + (end - beginning) // 2 + 1\n",
    "            current_visited = self.ordered[current_visited_index]\n",
    "            if word == current_visited:\n",
    "                return beginning + (end - beginning) // 2\n",
    "            elif word < current_visited:\n",
    "                end -= (end - current_visited_index) + 1\n",
    "            else:\n",
    "                beginning += (current_visited_index - beginning) + 1\n",
    "        return -1\n",
    "            \n",
    "        "
   ]
  },
  {
   "cell_type": "code",
   "execution_count": 141,
   "metadata": {},
   "outputs": [],
   "source": [
    "bbd = BibleBidirectorialDictionary(br)"
   ]
  },
  {
   "cell_type": "code",
   "execution_count": 151,
   "metadata": {},
   "outputs": [],
   "source": [
    "with open(path.join('data', 'words.json'), 'w', encoding='utf') as file:\n",
    "    file.write('[')\n",
    "    first = True\n",
    "    for word in bbd.ordered:\n",
    "        if not first:\n",
    "            file.write(',')\n",
    "        file.write('\"' + word + '\"')\n",
    "        first = False\n",
    "    file.write(']')"
   ]
  }
 ],
 "metadata": {
  "kernelspec": {
   "display_name": "Python 3.8.10 64-bit",
   "language": "python",
   "name": "python3"
  },
  "language_info": {
   "codemirror_mode": {
    "name": "ipython",
    "version": 3
   },
   "file_extension": ".py",
   "mimetype": "text/x-python",
   "name": "python",
   "nbconvert_exporter": "python",
   "pygments_lexer": "ipython3",
   "version": "3.8.10"
  },
  "orig_nbformat": 4,
  "vscode": {
   "interpreter": {
    "hash": "e9cf67d4382dce4fbd50b02e030497dd8d7937cea9e35bc281a10388d12c2354"
   }
  }
 },
 "nbformat": 4,
 "nbformat_minor": 2
}

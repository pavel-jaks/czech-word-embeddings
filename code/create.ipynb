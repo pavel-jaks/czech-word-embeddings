{
 "cells": [
  {
   "cell_type": "code",
   "execution_count": null,
   "metadata": {},
   "outputs": [],
   "source": [
    "from os import path\n",
    "from typing import Union"
   ]
  },
  {
   "cell_type": "code",
   "execution_count": null,
   "metadata": {},
   "outputs": [],
   "source": [
    "from bs4 import BeautifulSoup"
   ]
  },
  {
   "cell_type": "code",
   "execution_count": 54,
   "metadata": {},
   "outputs": [],
   "source": [
    "class BibleReader:\n",
    "    def __init__(self, file_name:Union[str, None]=None):\n",
    "        if file_name is None:\n",
    "            file_name = path.join('data', 'bible-csp.xml')\n",
    "        data = None\n",
    "        with open(file_name, encoding='utf-8') as file:\n",
    "            data = file.read()\n",
    "        bs_data = BeautifulSoup(data, 'xml')\n",
    "        self.sentences = []\n",
    "        buffer = ''\n",
    "        for verse in bs_data.find_all('v'):\n",
    "            verse = verse.find_all(text=True, recursive=False)\n",
    "            verse = str(verse)[2:-2]\n",
    "            if '.' not in verse:\n",
    "                buffer += verse\n",
    "            else:\n",
    "                sentences = (buffer + ' ' + verse).split('.')\n",
    "                buffer = ''\n",
    "                sentence_number = len(sentences)\n",
    "                added_sentences_count = 0\n",
    "                for i in (range(sentence_number) if '.' in sentences[sentence_number - 1] else range(sentence_number - 1)):\n",
    "                    sentence = sentences[i].lower()\n",
    "                    punctuations= r'''!()-[]{};:'\"\\,<>./?@#$%^&*_~'''\n",
    "                    for x in sentence:\n",
    "                        if x in punctuations:\n",
    "                            sentence.replace(x, '')\n",
    "                    self.sentences.append([word for word in sentence.split(' ') if word != ''])\n",
    "                    added_sentences_count += 1\n",
    "                if added_sentences_count != sentence_number:\n",
    "                    buffer += sentences[sentence_number - 1]\n",
    "            "
   ]
  },
  {
   "cell_type": "code",
   "execution_count": 55,
   "metadata": {},
   "outputs": [],
   "source": [
    "br = BibleReader()"
   ]
  }
 ],
 "metadata": {
  "kernelspec": {
   "display_name": "Python 3.8.10 64-bit",
   "language": "python",
   "name": "python3"
  },
  "language_info": {
   "codemirror_mode": {
    "name": "ipython",
    "version": 3
   },
   "file_extension": ".py",
   "mimetype": "text/x-python",
   "name": "python",
   "nbconvert_exporter": "python",
   "pygments_lexer": "ipython3",
   "version": "3.8.10"
  },
  "orig_nbformat": 4,
  "vscode": {
   "interpreter": {
    "hash": "e9cf67d4382dce4fbd50b02e030497dd8d7937cea9e35bc281a10388d12c2354"
   }
  }
 },
 "nbformat": 4,
 "nbformat_minor": 2
}
